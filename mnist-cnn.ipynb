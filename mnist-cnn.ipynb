{
 "cells": [
  {
   "cell_type": "markdown",
   "metadata": {},
   "source": [
    "## 加载 FASHION_MNIST 数据集"
   ]
  },
  {
   "cell_type": "code",
   "execution_count": 1,
   "metadata": {},
   "outputs": [
    {
     "name": "stderr",
     "output_type": "stream",
     "text": [
      "Using TensorFlow backend.\n"
     ]
    },
    {
     "name": "stdout",
     "output_type": "stream",
     "text": [
      "(60000, 28, 28) <class 'numpy.ndarray'>\n",
      "(60000,) <class 'numpy.ndarray'>\n",
      "(10000, 28, 28) <class 'numpy.ndarray'>\n",
      "(10000,) <class 'numpy.ndarray'>\n"
     ]
    }
   ],
   "source": [
    "import tensorflow as tf\n",
    "from keras.datasets import mnist\n",
    "(x_train, y_train), (x_test, y_test) = tf.keras.datasets.fashion_mnist.load_data()\n",
    "\n",
    "print(x_train.shape, type(x_train))\n",
    "print(y_train.shape, type(y_train))\n",
    "print(x_test.shape, type(x_test))\n",
    "print(y_test.shape, type(y_test))"
   ]
  },
  {
   "cell_type": "markdown",
   "metadata": {},
   "source": [
    "## 数据处理：规范化"
   ]
  },
  {
   "cell_type": "code",
   "execution_count": 2,
   "metadata": {},
   "outputs": [
    {
     "name": "stdout",
     "output_type": "stream",
     "text": [
      "(60000, 28, 28, 1) <class 'numpy.ndarray'>\n",
      "(10000, 28, 28, 1) <class 'numpy.ndarray'>\n"
     ]
    }
   ],
   "source": [
    "from keras import backend as K\n",
    "\n",
    "img_rows, img_cols = 28, 28\n",
    "\n",
    "x_train = x_train.reshape(x_train.shape[0], img_rows, img_cols, 1)\n",
    "x_test = x_test.reshape(x_test.shape[0], img_rows, img_cols, 1)\n",
    "input_shape = (img_rows, img_cols, 1)\n",
    "\n",
    "\n",
    "print(x_train.shape, type(x_train))\n",
    "print(x_test.shape, type(x_test))"
   ]
  },
  {
   "cell_type": "code",
   "execution_count": 3,
   "metadata": {},
   "outputs": [
    {
     "name": "stdout",
     "output_type": "stream",
     "text": [
      "60000 train samples\n",
      "10000 test samples\n"
     ]
    }
   ],
   "source": [
    "# 将数据类型转换为float32\n",
    "X_train = x_train.astype('float32')\n",
    "X_test = x_test.astype('float32')\n",
    "# 数据归一化\n",
    "X_train /= 255\n",
    "X_test /= 255\n",
    "\n",
    "print(X_train.shape[0], 'train samples')\n",
    "print(X_test.shape[0], 'test samples')"
   ]
  },
  {
   "cell_type": "markdown",
   "metadata": {},
   "source": [
    "## 统计训练数据中各标签数量"
   ]
  },
  {
   "cell_type": "code",
   "execution_count": 4,
   "metadata": {},
   "outputs": [
    {
     "name": "stdout",
     "output_type": "stream",
     "text": [
      "[0 1 2 3 4 5 6 7 8 9] [6000 6000 6000 6000 6000 6000 6000 6000 6000 6000]\n"
     ]
    }
   ],
   "source": [
    "import numpy as np\n",
    "import matplotlib.pyplot as plt\n",
    "\n",
    "label, count = np.unique(y_train, return_counts=True)\n",
    "print(label, count)"
   ]
  },
  {
   "cell_type": "code",
   "execution_count": 5,
   "metadata": {},
   "outputs": [
    {
     "data": {
      "image/png": "[encoded data removed]",
      "text/plain": [
       "<Figure size 432x288 with 1 Axes>"
      ]
     },
     "metadata": {
      "needs_background": "light"
     },
     "output_type": "display_data"
    }
   ],
   "source": [
    "fig = plt.figure()\n",
    "plt.bar(label, count, width = 0.7, align='center')\n",
    "plt.title(\"Label Distribution\")\n",
    "plt.xlabel(\"Label\")\n",
    "plt.ylabel(\"Count\")\n",
    "plt.xticks(label)\n",
    "plt.ylim(0,7500)\n",
    "\n",
    "for a,b in zip(label, count):\n",
    "    plt.text(a, b, '%d' % b, ha='center', va='bottom',fontsize=10)\n",
    "\n",
    "plt.show()"
   ]
  },
  {
   "cell_type": "code",
   "execution_count": 6,
   "metadata": {},
   "outputs": [
    {
     "name": "stdout",
     "output_type": "stream",
     "text": [
      "Shape before one-hot encoding:  (60000,)\n",
      "Shape after one-hot encoding:  (60000, 10)\n"
     ]
    }
   ],
   "source": [
    "from keras.utils import np_utils\n",
    "\n",
    "n_classes = 10\n",
    "print(\"Shape before one-hot encoding: \", y_train.shape)\n",
    "Y_train = np_utils.to_categorical(y_train, n_classes)\n",
    "print(\"Shape after one-hot encoding: \", Y_train.shape)\n",
    "Y_test = np_utils.to_categorical(y_test, n_classes)"
   ]
  },
  {
   "cell_type": "code",
   "execution_count": 7,
   "metadata": {},
   "outputs": [
    {
     "name": "stdout",
     "output_type": "stream",
     "text": [
      "9\n",
      "[0. 0. 0. 0. 0. 0. 0. 0. 0. 1.]\n"
     ]
    }
   ],
   "source": [
    "print(y_train[0])\n",
    "print(Y_train[0])"
   ]
  },
  {
   "cell_type": "markdown",
   "metadata": {},
   "source": [
    "## 使用 Keras sequential model 定义 MNIST CNN 网络\n"
   ]
  },
  {
   "cell_type": "code",
   "execution_count": 8,
   "metadata": {},
   "outputs": [],
   "source": [
    "from keras.models import Sequential\n",
    "from keras.layers import Dense, Dropout, Flatten\n",
    "from keras.layers import Conv2D, MaxPool2D\n",
    "from keras.layers.normalization import BatchNormalization\n",
    "\n",
    "model = Sequential()\n",
    "\n",
    "model.add(Conv2D(filters = 32, kernel_size = (2, 2),padding='same',activation='relu',\n",
    "                 input_shape = input_shape))\n",
    "model.add(BatchNormalization())\n",
    "model.add(Conv2D(filters = 32, kernel_size = (2, 2), padding='same',activation='relu'))\n",
    "model.add(BatchNormalization())\n",
    "#model.add(Conv2D(filters = 16, kernel_size = (3, 3), activation='relu'))\n",
    "#model.add(BatchNormalization())\n",
    "model.add(MaxPool2D(strides=(2,2)))\n",
    "model.add(Dropout(0.25))\n",
    "\n",
    "model.add(Conv2D(filters = 64, kernel_size = (3, 3), padding='same',activation='relu'))\n",
    "model.add(BatchNormalization())\n",
    "model.add(Conv2D(filters = 64, kernel_size = (3, 3), padding='same',activation='relu'))\n",
    "model.add(BatchNormalization())\n",
    "#model.add(Conv2D(filters = 32, kernel_size = (3, 3), activation='relu'))\n",
    "#model.add(BatchNormalization())\n",
    "model.add(MaxPool2D(strides=(2,2)))\n",
    "model.add(Dropout(0.25))\n",
    "\n",
    "model.add(Flatten())\n",
    "model.add(Dense(512, activation='relu'))\n",
    "model.add(Dropout(0.25))\n",
    "model.add(Dense(1024, activation='relu'))\n",
    "model.add(Dropout(0.5))\n",
    "model.add(Dense(10, activation='softmax'))"
   ]
  },
  {
   "cell_type": "markdown",
   "metadata": {},
   "source": [
    "## 查看 MNIST CNN 模型网络结构"
   ]
  },
  {
   "cell_type": "code",
   "execution_count": 9,
   "metadata": {},
   "outputs": [
    {
     "name": "stdout",
     "output_type": "stream",
     "text": [
      "_________________________________________________________________\n",
      "Layer (type)                 Output Shape              Param #   \n",
      "=================================================================\n",
      "conv2d_1 (Conv2D)            (None, 28, 28, 32)        160       \n",
      "_________________________________________________________________\n",
      "batch_normalization_1 (Batch (None, 28, 28, 32)        128       \n",
      "_________________________________________________________________\n",
      "conv2d_2 (Conv2D)            (None, 28, 28, 32)        4128      \n",
      "_________________________________________________________________\n",
      "batch_normalization_2 (Batch (None, 28, 28, 32)        128       \n",
      "_________________________________________________________________\n",
      "max_pooling2d_1 (MaxPooling2 (None, 14, 14, 32)        0         \n",
      "_________________________________________________________________\n",
      "dropout_1 (Dropout)          (None, 14, 14, 32)        0         \n",
      "_________________________________________________________________\n",
      "conv2d_3 (Conv2D)            (None, 14, 14, 64)        18496     \n",
      "_________________________________________________________________\n",
      "batch_normalization_3 (Batch (None, 14, 14, 64)        256       \n",
      "_________________________________________________________________\n",
      "conv2d_4 (Conv2D)            (None, 14, 14, 64)        36928     \n",
      "_________________________________________________________________\n",
      "batch_normalization_4 (Batch (None, 14, 14, 64)        256       \n",
      "_________________________________________________________________\n",
      "max_pooling2d_2 (MaxPooling2 (None, 7, 7, 64)          0         \n",
      "_________________________________________________________________\n",
      "dropout_2 (Dropout)          (None, 7, 7, 64)          0         \n",
      "_________________________________________________________________\n",
      "flatten_1 (Flatten)          (None, 3136)              0         \n",
      "_________________________________________________________________\n",
      "dense_1 (Dense)              (None, 512)               1606144   \n",
      "_________________________________________________________________\n",
      "dropout_3 (Dropout)          (None, 512)               0         \n",
      "_________________________________________________________________\n",
      "dense_2 (Dense)              (None, 1024)              525312    \n",
      "_________________________________________________________________\n",
      "dropout_4 (Dropout)          (None, 1024)              0         \n",
      "_________________________________________________________________\n",
      "dense_3 (Dense)              (None, 10)                10250     \n",
      "=================================================================\n",
      "Total params: 2,202,186\n",
      "Trainable params: 2,201,802\n",
      "Non-trainable params: 384\n",
      "_________________________________________________________________\n"
     ]
    }
   ],
   "source": [
    "model.summary()"
   ]
  },
  {
   "cell_type": "code",
   "execution_count": 10,
   "metadata": {},
   "outputs": [
    {
     "name": "stdout",
     "output_type": "stream",
     "text": [
      "[None, 28, 28, 32]\n",
      "[None, 28, 28, 32]\n",
      "[None, 28, 28, 32]\n",
      "[None, 28, 28, 32]\n",
      "[None, 14, 14, 32]\n",
      "[None, 14, 14, 32]\n",
      "[None, 14, 14, 64]\n",
      "[None, 14, 14, 64]\n",
      "[None, 14, 14, 64]\n",
      "[None, 14, 14, 64]\n",
      "[None, 7, 7, 64]\n",
      "[None, 7, 7, 64]\n",
      "[None, None]\n",
      "[None, 512]\n",
      "[None, 512]\n",
      "[None, 1024]\n",
      "[None, 1024]\n",
      "[None, 10]\n"
     ]
    }
   ],
   "source": [
    "for layer in model.layers:\n",
    "    print(layer.get_output_at(0).get_shape().as_list())"
   ]
  },
  {
   "cell_type": "markdown",
   "metadata": {},
   "source": [
    "## 编译模型"
   ]
  },
  {
   "cell_type": "code",
   "execution_count": 11,
   "metadata": {},
   "outputs": [],
   "source": [
    "model.compile(loss='categorical_crossentropy', metrics=['accuracy'], optimizer='adam')"
   ]
  },
  {
   "cell_type": "markdown",
   "metadata": {},
   "source": [
    "## 训练模型，并将指标保存到 history 中"
   ]
  },
  {
   "cell_type": "code",
   "execution_count": 12,
   "metadata": {},
   "outputs": [
    {
     "name": "stdout",
     "output_type": "stream",
     "text": [
      "Train on 60000 samples, validate on 10000 samples\n",
      "Epoch 1/200\n",
      " - 8s - loss: 0.5192 - acc: 0.8169 - val_loss: 0.3182 - val_acc: 0.8875\n",
      "Epoch 2/200\n",
      " - 7s - loss: 0.3144 - acc: 0.8865 - val_loss: 0.3151 - val_acc: 0.8840\n",
      "Epoch 3/200\n",
      " - 7s - loss: 0.2686 - acc: 0.9030 - val_loss: 0.2772 - val_acc: 0.9040\n",
      "Epoch 4/200\n",
      " - 7s - loss: 0.2454 - acc: 0.9120 - val_loss: 0.2393 - val_acc: 0.9152\n",
      "Epoch 5/200\n",
      " - 7s - loss: 0.2244 - acc: 0.9194 - val_loss: 0.2283 - val_acc: 0.9219\n",
      "Epoch 6/200\n",
      " - 7s - loss: 0.2109 - acc: 0.9241 - val_loss: 0.2191 - val_acc: 0.9196\n",
      "Epoch 7/200\n",
      " - 7s - loss: 0.2039 - acc: 0.9273 - val_loss: 0.2137 - val_acc: 0.9241\n",
      "Epoch 8/200\n",
      " - 7s - loss: 0.1919 - acc: 0.9316 - val_loss: 0.2181 - val_acc: 0.9231\n",
      "Epoch 9/200\n",
      " - 7s - loss: 0.1806 - acc: 0.9349 - val_loss: 0.2168 - val_acc: 0.9305\n",
      "Epoch 10/200\n",
      " - 7s - loss: 0.1714 - acc: 0.9387 - val_loss: 0.2254 - val_acc: 0.9254\n",
      "Epoch 11/200\n",
      " - 7s - loss: 0.1672 - acc: 0.9406 - val_loss: 0.2164 - val_acc: 0.9273\n",
      "Epoch 12/200\n",
      " - 7s - loss: 0.1589 - acc: 0.9437 - val_loss: 0.2195 - val_acc: 0.9272\n",
      "Epoch 13/200\n",
      " - 7s - loss: 0.1504 - acc: 0.9464 - val_loss: 0.2082 - val_acc: 0.9366\n",
      "Epoch 14/200\n",
      " - 7s - loss: 0.1445 - acc: 0.9481 - val_loss: 0.2223 - val_acc: 0.9268\n",
      "Epoch 15/200\n",
      " - 7s - loss: 0.1383 - acc: 0.9505 - val_loss: 0.2104 - val_acc: 0.9350\n",
      "Epoch 16/200\n",
      " - 7s - loss: 0.1346 - acc: 0.9515 - val_loss: 0.2103 - val_acc: 0.9339\n",
      "Epoch 17/200\n",
      " - 7s - loss: 0.1300 - acc: 0.9531 - val_loss: 0.2149 - val_acc: 0.9314\n",
      "Epoch 18/200\n",
      " - 7s - loss: 0.1246 - acc: 0.9554 - val_loss: 0.2335 - val_acc: 0.9336\n",
      "Epoch 19/200\n",
      " - 7s - loss: 0.1192 - acc: 0.9578 - val_loss: 0.2298 - val_acc: 0.9318\n",
      "Epoch 20/200\n",
      " - 7s - loss: 0.1148 - acc: 0.9590 - val_loss: 0.2331 - val_acc: 0.9322\n",
      "Epoch 21/200\n",
      " - 7s - loss: 0.1100 - acc: 0.9608 - val_loss: 0.2180 - val_acc: 0.9353\n",
      "Epoch 22/200\n",
      " - 7s - loss: 0.1067 - acc: 0.9624 - val_loss: 0.2138 - val_acc: 0.9376\n",
      "Epoch 23/200\n",
      " - 7s - loss: 0.1024 - acc: 0.9626 - val_loss: 0.2385 - val_acc: 0.9345\n",
      "Epoch 24/200\n",
      " - 7s - loss: 0.0992 - acc: 0.9648 - val_loss: 0.2258 - val_acc: 0.9364\n",
      "Epoch 25/200\n",
      " - 7s - loss: 0.0951 - acc: 0.9667 - val_loss: 0.2278 - val_acc: 0.9352\n",
      "Epoch 26/200\n",
      " - 7s - loss: 0.0928 - acc: 0.9669 - val_loss: 0.2522 - val_acc: 0.9325\n",
      "Epoch 27/200\n",
      " - 7s - loss: 0.0878 - acc: 0.9688 - val_loss: 0.2381 - val_acc: 0.9383\n",
      "Epoch 28/200\n",
      " - 7s - loss: 0.0877 - acc: 0.9693 - val_loss: 0.2236 - val_acc: 0.9348\n",
      "Epoch 29/200\n",
      " - 7s - loss: 0.0819 - acc: 0.9707 - val_loss: 0.2441 - val_acc: 0.9365\n",
      "Epoch 30/200\n",
      " - 7s - loss: 0.0810 - acc: 0.9708 - val_loss: 0.2249 - val_acc: 0.9395\n",
      "Epoch 31/200\n",
      " - 7s - loss: 0.0786 - acc: 0.9722 - val_loss: 0.2534 - val_acc: 0.9376\n",
      "Epoch 32/200\n",
      " - 7s - loss: 0.0767 - acc: 0.9727 - val_loss: 0.2459 - val_acc: 0.9376\n",
      "Epoch 33/200\n",
      " - 7s - loss: 0.0728 - acc: 0.9742 - val_loss: 0.2257 - val_acc: 0.9391\n",
      "Epoch 34/200\n",
      " - 7s - loss: 0.0740 - acc: 0.9742 - val_loss: 0.2417 - val_acc: 0.9397\n",
      "Epoch 35/200\n",
      " - 7s - loss: 0.0702 - acc: 0.9751 - val_loss: 0.2311 - val_acc: 0.9407\n",
      "Epoch 36/200\n",
      " - 7s - loss: 0.0670 - acc: 0.9763 - val_loss: 0.2385 - val_acc: 0.9415\n",
      "Epoch 37/200\n",
      " - 7s - loss: 0.0649 - acc: 0.9768 - val_loss: 0.2565 - val_acc: 0.9401\n",
      "Epoch 38/200\n",
      " - 7s - loss: 0.0645 - acc: 0.9773 - val_loss: 0.2442 - val_acc: 0.9418\n",
      "Epoch 39/200\n",
      " - 7s - loss: 0.0630 - acc: 0.9779 - val_loss: 0.2505 - val_acc: 0.9392\n",
      "Epoch 40/200\n",
      " - 7s - loss: 0.0616 - acc: 0.9784 - val_loss: 0.2517 - val_acc: 0.9349\n",
      "Epoch 41/200\n",
      " - 7s - loss: 0.0635 - acc: 0.9786 - val_loss: 0.2355 - val_acc: 0.9395\n",
      "Epoch 42/200\n",
      " - 7s - loss: 0.0593 - acc: 0.9793 - val_loss: 0.2429 - val_acc: 0.9416\n",
      "Epoch 43/200\n",
      " - 7s - loss: 0.0553 - acc: 0.9804 - val_loss: 0.2526 - val_acc: 0.9398\n",
      "Epoch 44/200\n",
      " - 7s - loss: 0.0559 - acc: 0.9802 - val_loss: 0.2692 - val_acc: 0.9386\n",
      "Epoch 45/200\n",
      " - 7s - loss: 0.0560 - acc: 0.9808 - val_loss: 0.2337 - val_acc: 0.9409\n",
      "Epoch 46/200\n",
      " - 7s - loss: 0.0523 - acc: 0.9822 - val_loss: 0.2606 - val_acc: 0.9347\n",
      "Epoch 47/200\n",
      " - 7s - loss: 0.0532 - acc: 0.9825 - val_loss: 0.2377 - val_acc: 0.9375\n",
      "Epoch 48/200\n",
      " - 7s - loss: 0.0522 - acc: 0.9821 - val_loss: 0.2518 - val_acc: 0.9381\n",
      "Epoch 49/200\n",
      " - 7s - loss: 0.0519 - acc: 0.9821 - val_loss: 0.2342 - val_acc: 0.9382\n",
      "Epoch 50/200\n",
      " - 7s - loss: 0.0493 - acc: 0.9835 - val_loss: 0.2838 - val_acc: 0.9374\n",
      "Epoch 51/200\n",
      " - 7s - loss: 0.0491 - acc: 0.9836 - val_loss: 0.2767 - val_acc: 0.9382\n",
      "Epoch 52/200\n",
      " - 7s - loss: 0.0450 - acc: 0.9843 - val_loss: 0.2797 - val_acc: 0.9363\n",
      "Epoch 53/200\n",
      " - 7s - loss: 0.0461 - acc: 0.9850 - val_loss: 0.2666 - val_acc: 0.9377\n",
      "Epoch 54/200\n",
      " - 7s - loss: 0.0425 - acc: 0.9853 - val_loss: 0.2627 - val_acc: 0.9405\n",
      "Epoch 55/200\n",
      " - 7s - loss: 0.0476 - acc: 0.9841 - val_loss: 0.2569 - val_acc: 0.9400\n",
      "Epoch 56/200\n",
      " - 7s - loss: 0.0428 - acc: 0.9858 - val_loss: 0.2682 - val_acc: 0.9399\n",
      "Epoch 57/200\n",
      " - 7s - loss: 0.0439 - acc: 0.9854 - val_loss: 0.2560 - val_acc: 0.9411\n",
      "Epoch 58/200\n",
      " - 7s - loss: 0.0410 - acc: 0.9863 - val_loss: 0.2731 - val_acc: 0.9375\n",
      "Epoch 59/200\n",
      " - 7s - loss: 0.0450 - acc: 0.9857 - val_loss: 0.2571 - val_acc: 0.9422\n",
      "Epoch 60/200\n",
      " - 7s - loss: 0.0420 - acc: 0.9866 - val_loss: 0.2430 - val_acc: 0.9408\n",
      "Epoch 61/200\n",
      " - 7s - loss: 0.0385 - acc: 0.9867 - val_loss: 0.2768 - val_acc: 0.9405\n",
      "Epoch 62/200\n",
      " - 7s - loss: 0.0383 - acc: 0.9871 - val_loss: 0.2791 - val_acc: 0.9403\n",
      "Epoch 63/200\n",
      " - 7s - loss: 0.0387 - acc: 0.9869 - val_loss: 0.2690 - val_acc: 0.9392\n",
      "Epoch 64/200\n",
      " - 7s - loss: 0.0397 - acc: 0.9873 - val_loss: 0.2677 - val_acc: 0.9385\n",
      "Epoch 65/200\n",
      " - 7s - loss: 0.0369 - acc: 0.9876 - val_loss: 0.2721 - val_acc: 0.9400\n",
      "Epoch 66/200\n",
      " - 8s - loss: 0.0359 - acc: 0.9881 - val_loss: 0.2862 - val_acc: 0.9411\n",
      "Epoch 67/200\n",
      " - 7s - loss: 0.0385 - acc: 0.9878 - val_loss: 0.2755 - val_acc: 0.9415\n",
      "Epoch 68/200\n",
      " - 7s - loss: 0.0344 - acc: 0.9888 - val_loss: 0.2482 - val_acc: 0.9370\n",
      "Epoch 69/200\n",
      " - 7s - loss: 0.0370 - acc: 0.9878 - val_loss: 0.2732 - val_acc: 0.9399\n",
      "Epoch 70/200\n",
      " - 7s - loss: 0.0359 - acc: 0.9882 - val_loss: 0.2651 - val_acc: 0.9418\n",
      "Epoch 71/200\n",
      " - 7s - loss: 0.0350 - acc: 0.9882 - val_loss: 0.2668 - val_acc: 0.9397\n",
      "Epoch 72/200\n",
      " - 7s - loss: 0.0332 - acc: 0.9892 - val_loss: 0.2666 - val_acc: 0.9435\n",
      "Epoch 73/200\n",
      " - 7s - loss: 0.0345 - acc: 0.9883 - val_loss: 0.2841 - val_acc: 0.9405\n",
      "Epoch 74/200\n",
      " - 7s - loss: 0.0340 - acc: 0.9888 - val_loss: 0.2702 - val_acc: 0.9401\n",
      "Epoch 75/200\n",
      " - 7s - loss: 0.0338 - acc: 0.9892 - val_loss: 0.2903 - val_acc: 0.9422\n",
      "Epoch 76/200\n",
      " - 7s - loss: 0.0338 - acc: 0.9890 - val_loss: 0.2854 - val_acc: 0.9402\n",
      "Epoch 77/200\n",
      " - 7s - loss: 0.0333 - acc: 0.9889 - val_loss: 0.2660 - val_acc: 0.9414\n",
      "Epoch 78/200\n",
      " - 7s - loss: 0.0345 - acc: 0.9889 - val_loss: 0.2939 - val_acc: 0.9413\n",
      "Epoch 79/200\n",
      " - 7s - loss: 0.0286 - acc: 0.9904 - val_loss: 0.3259 - val_acc: 0.9364\n",
      "Epoch 80/200\n",
      " - 7s - loss: 0.0316 - acc: 0.9894 - val_loss: 0.3098 - val_acc: 0.9417\n",
      "Epoch 81/200\n",
      " - 7s - loss: 0.0296 - acc: 0.9901 - val_loss: 0.3422 - val_acc: 0.9366\n",
      "Epoch 82/200\n",
      " - 7s - loss: 0.0315 - acc: 0.9894 - val_loss: 0.2694 - val_acc: 0.9408\n",
      "Epoch 83/200\n",
      " - 7s - loss: 0.0284 - acc: 0.9902 - val_loss: 0.3076 - val_acc: 0.9406\n",
      "Epoch 84/200\n",
      " - 7s - loss: 0.0320 - acc: 0.9895 - val_loss: 0.3048 - val_acc: 0.9366\n",
      "Epoch 85/200\n",
      " - 7s - loss: 0.0298 - acc: 0.9909 - val_loss: 0.3119 - val_acc: 0.9424\n",
      "Epoch 86/200\n",
      " - 7s - loss: 0.0277 - acc: 0.9908 - val_loss: 0.3417 - val_acc: 0.9396\n",
      "Epoch 87/200\n",
      " - 7s - loss: 0.0301 - acc: 0.9903 - val_loss: 0.2964 - val_acc: 0.9364\n",
      "Epoch 88/200\n",
      " - 7s - loss: 0.0290 - acc: 0.9905 - val_loss: 0.3067 - val_acc: 0.9416\n",
      "Epoch 89/200\n",
      " - 7s - loss: 0.0282 - acc: 0.9913 - val_loss: 0.3106 - val_acc: 0.9406\n",
      "Epoch 90/200\n",
      " - 7s - loss: 0.0292 - acc: 0.9906 - val_loss: 0.3207 - val_acc: 0.9402\n",
      "Epoch 91/200\n",
      " - 7s - loss: 0.0272 - acc: 0.9911 - val_loss: 0.3028 - val_acc: 0.9387\n",
      "Epoch 92/200\n",
      " - 7s - loss: 0.0311 - acc: 0.9904 - val_loss: 0.3105 - val_acc: 0.9422\n",
      "Epoch 93/200\n",
      " - 7s - loss: 0.0291 - acc: 0.9903 - val_loss: 0.3121 - val_acc: 0.9404\n",
      "Epoch 94/200\n",
      " - 7s - loss: 0.0288 - acc: 0.9907 - val_loss: 0.3078 - val_acc: 0.9397\n",
      "Epoch 95/200\n",
      " - 7s - loss: 0.0270 - acc: 0.9914 - val_loss: 0.3187 - val_acc: 0.9432\n",
      "Epoch 96/200\n",
      " - 7s - loss: 0.0295 - acc: 0.9904 - val_loss: 0.2824 - val_acc: 0.9412\n"
     ]
    },
    {
     "name": "stdout",
     "output_type": "stream",
     "text": [
      "Epoch 97/200\n",
      " - 7s - loss: 0.0284 - acc: 0.9906 - val_loss: 0.3375 - val_acc: 0.9399\n",
      "Epoch 98/200\n",
      " - 7s - loss: 0.0265 - acc: 0.9912 - val_loss: 0.2935 - val_acc: 0.9392\n",
      "Epoch 99/200\n",
      " - 7s - loss: 0.0264 - acc: 0.9914 - val_loss: 0.3031 - val_acc: 0.9424\n",
      "Epoch 100/200\n",
      " - 7s - loss: 0.0252 - acc: 0.9915 - val_loss: 0.3312 - val_acc: 0.9398\n",
      "Epoch 101/200\n",
      " - 7s - loss: 0.0275 - acc: 0.9913 - val_loss: 0.3526 - val_acc: 0.9405\n",
      "Epoch 102/200\n",
      " - 7s - loss: 0.0258 - acc: 0.9920 - val_loss: 0.3155 - val_acc: 0.9387\n",
      "Epoch 103/200\n",
      " - 7s - loss: 0.0297 - acc: 0.9911 - val_loss: 0.2781 - val_acc: 0.9388\n",
      "Epoch 104/200\n",
      " - 7s - loss: 0.0271 - acc: 0.9914 - val_loss: 0.3357 - val_acc: 0.9403\n",
      "Epoch 105/200\n",
      " - 7s - loss: 0.0245 - acc: 0.9922 - val_loss: 0.3361 - val_acc: 0.9383\n",
      "Epoch 106/200\n",
      " - 7s - loss: 0.0282 - acc: 0.9908 - val_loss: 0.3055 - val_acc: 0.9409\n",
      "Epoch 107/200\n",
      " - 7s - loss: 0.0278 - acc: 0.9915 - val_loss: 0.3147 - val_acc: 0.9372\n",
      "Epoch 108/200\n",
      " - 7s - loss: 0.0243 - acc: 0.9919 - val_loss: 0.3527 - val_acc: 0.9394\n",
      "Epoch 109/200\n",
      " - 7s - loss: 0.0281 - acc: 0.9920 - val_loss: 0.3183 - val_acc: 0.9425\n",
      "Epoch 110/200\n",
      " - 7s - loss: 0.0237 - acc: 0.9926 - val_loss: 0.3371 - val_acc: 0.9417\n",
      "Epoch 111/200\n",
      " - 7s - loss: 0.0249 - acc: 0.9926 - val_loss: 0.3307 - val_acc: 0.9404\n",
      "Epoch 112/200\n",
      " - 7s - loss: 0.0253 - acc: 0.9922 - val_loss: 0.3084 - val_acc: 0.9411\n",
      "Epoch 113/200\n",
      " - 7s - loss: 0.0259 - acc: 0.9917 - val_loss: 0.2952 - val_acc: 0.9411\n",
      "Epoch 114/200\n",
      " - 7s - loss: 0.0237 - acc: 0.9926 - val_loss: 0.3253 - val_acc: 0.9395\n",
      "Epoch 115/200\n",
      " - 7s - loss: 0.0238 - acc: 0.9922 - val_loss: 0.3184 - val_acc: 0.9443\n",
      "Epoch 116/200\n",
      " - 7s - loss: 0.0259 - acc: 0.9921 - val_loss: 0.3071 - val_acc: 0.9428\n",
      "Epoch 117/200\n",
      " - 7s - loss: 0.0245 - acc: 0.9921 - val_loss: 0.3141 - val_acc: 0.9417\n",
      "Epoch 118/200\n",
      " - 7s - loss: 0.0270 - acc: 0.9915 - val_loss: 0.2850 - val_acc: 0.9407\n",
      "Epoch 119/200\n",
      " - 7s - loss: 0.0231 - acc: 0.9929 - val_loss: 0.3059 - val_acc: 0.9430\n",
      "Epoch 120/200\n",
      " - 7s - loss: 0.0240 - acc: 0.9923 - val_loss: 0.3360 - val_acc: 0.9374\n",
      "Epoch 121/200\n",
      " - 7s - loss: 0.0226 - acc: 0.9927 - val_loss: 0.3285 - val_acc: 0.9408\n",
      "Epoch 122/200\n",
      " - 7s - loss: 0.0238 - acc: 0.9925 - val_loss: 0.3205 - val_acc: 0.9441\n",
      "Epoch 123/200\n",
      " - 7s - loss: 0.0209 - acc: 0.9931 - val_loss: 0.3173 - val_acc: 0.9420\n",
      "Epoch 124/200\n",
      " - 7s - loss: 0.0267 - acc: 0.9921 - val_loss: 0.3284 - val_acc: 0.9410\n",
      "Epoch 125/200\n",
      " - 7s - loss: 0.0244 - acc: 0.9927 - val_loss: 0.2937 - val_acc: 0.9426\n",
      "Epoch 126/200\n",
      " - 7s - loss: 0.0222 - acc: 0.9934 - val_loss: 0.2962 - val_acc: 0.9395\n",
      "Epoch 127/200\n",
      " - 7s - loss: 0.0240 - acc: 0.9924 - val_loss: 0.3017 - val_acc: 0.9422\n",
      "Epoch 128/200\n",
      " - 7s - loss: 0.0222 - acc: 0.9929 - val_loss: 0.3210 - val_acc: 0.9417\n",
      "Epoch 129/200\n",
      " - 7s - loss: 0.0235 - acc: 0.9930 - val_loss: 0.3317 - val_acc: 0.9399\n",
      "Epoch 130/200\n",
      " - 7s - loss: 0.0208 - acc: 0.9939 - val_loss: 0.3152 - val_acc: 0.9438\n",
      "Epoch 131/200\n",
      " - 7s - loss: 0.0218 - acc: 0.9932 - val_loss: 0.3412 - val_acc: 0.9424\n",
      "Epoch 132/200\n",
      " - 7s - loss: 0.0226 - acc: 0.9932 - val_loss: 0.3477 - val_acc: 0.9411\n",
      "Epoch 133/200\n",
      " - 7s - loss: 0.0228 - acc: 0.9926 - val_loss: 0.3444 - val_acc: 0.9422\n",
      "Epoch 134/200\n",
      " - 7s - loss: 0.0237 - acc: 0.9929 - val_loss: 0.3530 - val_acc: 0.9410\n",
      "Epoch 135/200\n",
      " - 7s - loss: 0.0225 - acc: 0.9930 - val_loss: 0.3092 - val_acc: 0.9405\n",
      "Epoch 136/200\n",
      " - 7s - loss: 0.0215 - acc: 0.9935 - val_loss: 0.3283 - val_acc: 0.9420\n",
      "Epoch 137/200\n",
      " - 7s - loss: 0.0224 - acc: 0.9935 - val_loss: 0.3227 - val_acc: 0.9422\n",
      "Epoch 138/200\n",
      " - 7s - loss: 0.0233 - acc: 0.9931 - val_loss: 0.3254 - val_acc: 0.9415\n",
      "Epoch 139/200\n",
      " - 7s - loss: 0.0226 - acc: 0.9928 - val_loss: 0.3451 - val_acc: 0.9410\n",
      "Epoch 140/200\n",
      " - 7s - loss: 0.0201 - acc: 0.9936 - val_loss: 0.3354 - val_acc: 0.9398\n",
      "Epoch 141/200\n",
      " - 7s - loss: 0.0226 - acc: 0.9930 - val_loss: 0.3278 - val_acc: 0.9408\n",
      "Epoch 142/200\n",
      " - 7s - loss: 0.0218 - acc: 0.9932 - val_loss: 0.3463 - val_acc: 0.9413\n",
      "Epoch 143/200\n",
      " - 7s - loss: 0.0222 - acc: 0.9930 - val_loss: 0.3512 - val_acc: 0.9416\n",
      "Epoch 144/200\n",
      " - 7s - loss: 0.0218 - acc: 0.9929 - val_loss: 0.3347 - val_acc: 0.9431\n",
      "Epoch 145/200\n",
      " - 7s - loss: 0.0242 - acc: 0.9922 - val_loss: 0.3809 - val_acc: 0.9400\n",
      "Epoch 146/200\n",
      " - 7s - loss: 0.0213 - acc: 0.9936 - val_loss: 0.3105 - val_acc: 0.9414\n",
      "Epoch 147/200\n",
      " - 7s - loss: 0.0199 - acc: 0.9938 - val_loss: 0.3456 - val_acc: 0.9434\n",
      "Epoch 148/200\n",
      " - 7s - loss: 0.0207 - acc: 0.9934 - val_loss: 0.3266 - val_acc: 0.9402\n",
      "Epoch 149/200\n",
      " - 7s - loss: 0.0208 - acc: 0.9934 - val_loss: 0.3588 - val_acc: 0.9414\n",
      "Epoch 150/200\n",
      " - 7s - loss: 0.0231 - acc: 0.9932 - val_loss: 0.3164 - val_acc: 0.9412\n",
      "Epoch 151/200\n",
      " - 7s - loss: 0.0202 - acc: 0.9936 - val_loss: 0.3422 - val_acc: 0.9380\n",
      "Epoch 152/200\n",
      " - 7s - loss: 0.0218 - acc: 0.9938 - val_loss: 0.3546 - val_acc: 0.9423\n",
      "Epoch 153/200\n",
      " - 7s - loss: 0.0205 - acc: 0.9937 - val_loss: 0.3076 - val_acc: 0.9421\n",
      "Epoch 154/200\n",
      " - 7s - loss: 0.0197 - acc: 0.9938 - val_loss: 0.3380 - val_acc: 0.9401\n",
      "Epoch 155/200\n",
      " - 7s - loss: 0.0236 - acc: 0.9928 - val_loss: 0.3290 - val_acc: 0.9416\n",
      "Epoch 156/200\n",
      " - 7s - loss: 0.0228 - acc: 0.9930 - val_loss: 0.3135 - val_acc: 0.9445\n",
      "Epoch 157/200\n",
      " - 7s - loss: 0.0186 - acc: 0.9943 - val_loss: 0.3217 - val_acc: 0.9424\n",
      "Epoch 158/200\n",
      " - 7s - loss: 0.0218 - acc: 0.9937 - val_loss: 0.3509 - val_acc: 0.9426\n",
      "Epoch 159/200\n",
      " - 7s - loss: 0.0193 - acc: 0.9942 - val_loss: 0.3441 - val_acc: 0.9448\n",
      "Epoch 160/200\n",
      " - 8s - loss: 0.0228 - acc: 0.9933 - val_loss: 0.3289 - val_acc: 0.9403\n",
      "Epoch 161/200\n",
      " - 7s - loss: 0.0168 - acc: 0.9946 - val_loss: 0.3457 - val_acc: 0.9440\n",
      "Epoch 162/200\n",
      " - 7s - loss: 0.0216 - acc: 0.9938 - val_loss: 0.3197 - val_acc: 0.9409\n",
      "Epoch 163/200\n",
      " - 7s - loss: 0.0241 - acc: 0.9932 - val_loss: 0.3288 - val_acc: 0.9403\n",
      "Epoch 164/200\n",
      " - 7s - loss: 0.0202 - acc: 0.9942 - val_loss: 0.3412 - val_acc: 0.9429\n",
      "Epoch 165/200\n",
      " - 7s - loss: 0.0182 - acc: 0.9942 - val_loss: 0.3270 - val_acc: 0.9423\n",
      "Epoch 166/200\n",
      " - 7s - loss: 0.0211 - acc: 0.9939 - val_loss: 0.2908 - val_acc: 0.9438\n",
      "Epoch 167/200\n",
      " - 7s - loss: 0.0189 - acc: 0.9941 - val_loss: 0.3718 - val_acc: 0.9413\n",
      "Epoch 168/200\n",
      " - 8s - loss: 0.0197 - acc: 0.9942 - val_loss: 0.3418 - val_acc: 0.9438\n",
      "Epoch 169/200\n",
      " - 7s - loss: 0.0216 - acc: 0.9940 - val_loss: 0.3134 - val_acc: 0.9434\n",
      "Epoch 170/200\n",
      " - 7s - loss: 0.0189 - acc: 0.9941 - val_loss: 0.3809 - val_acc: 0.9410\n",
      "Epoch 171/200\n",
      " - 7s - loss: 0.0225 - acc: 0.9938 - val_loss: 0.3366 - val_acc: 0.9426\n",
      "Epoch 172/200\n",
      " - 7s - loss: 0.0184 - acc: 0.9942 - val_loss: 0.3306 - val_acc: 0.9411\n",
      "Epoch 173/200\n",
      " - 7s - loss: 0.0206 - acc: 0.9941 - val_loss: 0.3193 - val_acc: 0.9434\n",
      "Epoch 174/200\n",
      " - 7s - loss: 0.0190 - acc: 0.9946 - val_loss: 0.3732 - val_acc: 0.9431\n",
      "Epoch 175/200\n",
      " - 7s - loss: 0.0198 - acc: 0.9942 - val_loss: 0.3219 - val_acc: 0.9395\n",
      "Epoch 176/200\n",
      " - 7s - loss: 0.0188 - acc: 0.9943 - val_loss: 0.3964 - val_acc: 0.9380\n",
      "Epoch 177/200\n",
      " - 7s - loss: 0.0228 - acc: 0.9932 - val_loss: 0.3409 - val_acc: 0.9417\n",
      "Epoch 178/200\n",
      " - 7s - loss: 0.0190 - acc: 0.9943 - val_loss: 0.3584 - val_acc: 0.9437\n",
      "Epoch 179/200\n",
      " - 7s - loss: 0.0219 - acc: 0.9939 - val_loss: 0.3408 - val_acc: 0.9420\n",
      "Epoch 180/200\n",
      " - 7s - loss: 0.0186 - acc: 0.9945 - val_loss: 0.3143 - val_acc: 0.9419\n",
      "Epoch 181/200\n",
      " - 7s - loss: 0.0216 - acc: 0.9940 - val_loss: 0.3418 - val_acc: 0.9438\n",
      "Epoch 182/200\n",
      " - 7s - loss: 0.0189 - acc: 0.9942 - val_loss: 0.3436 - val_acc: 0.9392\n",
      "Epoch 183/200\n",
      " - 7s - loss: 0.0200 - acc: 0.9944 - val_loss: 0.3388 - val_acc: 0.9411\n",
      "Epoch 184/200\n",
      " - 7s - loss: 0.0216 - acc: 0.9935 - val_loss: 0.3955 - val_acc: 0.9401\n",
      "Epoch 185/200\n",
      " - 7s - loss: 0.0219 - acc: 0.9937 - val_loss: 0.3256 - val_acc: 0.9408\n",
      "Epoch 186/200\n",
      " - 7s - loss: 0.0181 - acc: 0.9953 - val_loss: 0.3655 - val_acc: 0.9415\n",
      "Epoch 187/200\n",
      " - 7s - loss: 0.0176 - acc: 0.9947 - val_loss: 0.3303 - val_acc: 0.9433\n",
      "Epoch 188/200\n",
      " - 7s - loss: 0.0176 - acc: 0.9949 - val_loss: 0.3710 - val_acc: 0.9398\n",
      "Epoch 189/200\n",
      " - 8s - loss: 0.0201 - acc: 0.9940 - val_loss: 0.3317 - val_acc: 0.9406\n",
      "Epoch 190/200\n",
      " - 7s - loss: 0.0189 - acc: 0.9947 - val_loss: 0.3338 - val_acc: 0.9419\n",
      "Epoch 191/200\n",
      " - 7s - loss: 0.0184 - acc: 0.9947 - val_loss: 0.3485 - val_acc: 0.9436\n",
      "Epoch 192/200\n",
      " - 7s - loss: 0.0207 - acc: 0.9934 - val_loss: 0.3267 - val_acc: 0.9416\n"
     ]
    },
    {
     "name": "stdout",
     "output_type": "stream",
     "text": [
      "Epoch 193/200\n",
      " - 7s - loss: 0.0176 - acc: 0.9951 - val_loss: 0.3545 - val_acc: 0.9436\n",
      "Epoch 194/200\n",
      " - 7s - loss: 0.0210 - acc: 0.9945 - val_loss: 0.3611 - val_acc: 0.9410\n",
      "Epoch 195/200\n",
      " - 7s - loss: 0.0180 - acc: 0.9948 - val_loss: 0.3546 - val_acc: 0.9425\n",
      "Epoch 196/200\n",
      " - 7s - loss: 0.0176 - acc: 0.9948 - val_loss: 0.3728 - val_acc: 0.9453\n",
      "Epoch 197/200\n",
      " - 7s - loss: 0.0190 - acc: 0.9945 - val_loss: 0.3246 - val_acc: 0.9416\n",
      "Epoch 198/200\n",
      " - 7s - loss: 0.0188 - acc: 0.9947 - val_loss: 0.3522 - val_acc: 0.9431\n",
      "Epoch 199/200\n",
      " - 7s - loss: 0.0199 - acc: 0.9943 - val_loss: 0.3249 - val_acc: 0.9414\n",
      "Epoch 200/200\n",
      " - 7s - loss: 0.0219 - acc: 0.9939 - val_loss: 0.3343 - val_acc: 0.9436\n"
     ]
    }
   ],
   "source": [
    "history = model.fit(X_train,\n",
    "                    Y_train,\n",
    "                    batch_size=135,\n",
    "                    epochs=200,\n",
    "                    verbose=2,\n",
    "                    validation_data=(X_test, Y_test))"
   ]
  },
  {
   "cell_type": "markdown",
   "metadata": {},
   "source": [
    "## 可视化指标"
   ]
  },
  {
   "cell_type": "code",
   "execution_count": 13,
   "metadata": {},
   "outputs": [
    {
     "data": {
      "image/png": "[encoded data removed]",
      "text/plain": [
       "<Figure size 432x288 with 2 Axes>"
      ]
     },
     "metadata": {
      "needs_background": "light"
     },
     "output_type": "display_data"
    }
   ],
   "source": [
    "fig = plt.figure()\n",
    "plt.subplot(2,1,1)\n",
    "plt.plot(history.history['acc'])\n",
    "plt.plot(history.history['val_acc'])\n",
    "plt.title('Model Accuracy')\n",
    "plt.ylabel('accuracy')\n",
    "plt.xlabel('epoch')\n",
    "plt.legend(['train', 'test'], loc='lower right')\n",
    "\n",
    "plt.subplot(2,1,2)\n",
    "plt.plot(history.history['loss'])\n",
    "plt.plot(history.history['val_loss'])\n",
    "plt.title('Model Loss')\n",
    "plt.ylabel('loss')\n",
    "plt.xlabel('epoch')\n",
    "plt.legend(['train', 'test'], loc='upper right')\n",
    "plt.tight_layout()\n",
    "\n",
    "plt.show()"
   ]
  },
  {
   "cell_type": "markdown",
   "metadata": {},
   "source": [
    "## 保存模型"
   ]
  },
  {
   "cell_type": "code",
   "execution_count": 14,
   "metadata": {},
   "outputs": [
    {
     "name": "stdout",
     "output_type": "stream",
     "text": [
      "Saved trained model at ./mnist/model/keras_mnist.h5 \n"
     ]
    }
   ],
   "source": [
    "import os\n",
    "import tensorflow.gfile as gfile\n",
    "\n",
    "save_dir = \"./mnist/model/\"\n",
    "\n",
    "if gfile.Exists(save_dir):\n",
    "    gfile.DeleteRecursively(save_dir)\n",
    "gfile.MakeDirs(save_dir)\n",
    "\n",
    "model_name = 'keras_mnist.h5'\n",
    "model_path = os.path.join(save_dir, model_name)\n",
    "model.save(model_path)\n",
    "print('Saved trained model at %s ' % model_path)"
   ]
  },
  {
   "cell_type": "markdown",
   "metadata": {},
   "source": [
    "## 加载模型"
   ]
  },
  {
   "cell_type": "code",
   "execution_count": 15,
   "metadata": {},
   "outputs": [],
   "source": [
    "from keras.models import load_model\n",
    "\n",
    "mnist_model = load_model(model_path)"
   ]
  },
  {
   "cell_type": "markdown",
   "metadata": {},
   "source": [
    "## 统计模型在测试集上的分类结果"
   ]
  },
  {
   "cell_type": "code",
   "execution_count": 16,
   "metadata": {},
   "outputs": [
    {
     "name": "stdout",
     "output_type": "stream",
     "text": [
      "Test Loss: 0.3343008576719498\n",
      "Test Accuracy: 94.36%\n",
      "Classified correctly count: 9436\n",
      "Classified incorrectly count: 564\n"
     ]
    }
   ],
   "source": [
    "loss_and_metrics = mnist_model.evaluate(X_test, Y_test, verbose=2)\n",
    "    \n",
    "print(\"Test Loss: {}\".format(loss_and_metrics[0]))\n",
    "print(\"Test Accuracy: {}%\".format(loss_and_metrics[1]*100))\n",
    "\n",
    "predicted_classes = mnist_model.predict_classes(X_test)\n",
    "\n",
    "correct_indices = np.nonzero(predicted_classes == y_test)[0]\n",
    "incorrect_indices = np.nonzero(predicted_classes != y_test)[0]\n",
    "print(\"Classified correctly count: {}\".format(len(correct_indices)))\n",
    "print(\"Classified incorrectly count: {}\".format(len(incorrect_indices)))"
   ]
  },
  {
   "cell_type": "code",
   "execution_count": null,
   "metadata": {},
   "outputs": [],
   "source": []
  },
  {
   "cell_type": "code",
   "execution_count": null,
   "metadata": {},
   "outputs": [],
   "source": []
  }
 ],
 "metadata": {
  "kernelspec": {
   "display_name": "tensorflow3",
   "language": "python",
   "name": "tensorflow3"
  },
  "language_info": {
   "codemirror_mode": {
    "name": "ipython",
    "version": 3
   },
   "file_extension": ".py",
   "mimetype": "text/x-python",
   "name": "python",
   "nbconvert_exporter": "python",
   "pygments_lexer": "ipython3",
   "version": "3.5.2"
  }
 },
 "nbformat": 4,
 "nbformat_minor": 2
}
